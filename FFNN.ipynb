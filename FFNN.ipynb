{
 "cells": [
  {
   "cell_type": "code",
   "execution_count": 34,
   "id": "83e46091",
   "metadata": {},
   "outputs": [],
   "source": [
    "from numpy import exp , array , random , dot , tanh"
   ]
  },
  {
   "cell_type": "code",
   "execution_count": 35,
   "id": "f4c1d2fb",
   "metadata": {},
   "outputs": [],
   "source": [
    "class NeuralNetwork():\n",
    "    \n",
    "    def __init__(self):\n",
    "\n",
    "        # generate same weights in every run\n",
    "        random.seed(1)\n",
    "\n",
    "        # 3 x 1 weight matrix ====> 3 rows and 1 column\n",
    "        self.weight_matrix = 2 * random.random((3,1)) - 1\n",
    "\n",
    "    # tanh as activation function\n",
    "    def tanh(self,x):\n",
    "        return tanh(x)\n",
    "\n",
    "    # derivative of tanh function\n",
    "    # needed to calculate the gradients\n",
    "    def tanh_derivative(self , x):\n",
    "        return 1.0 - (tanh(x) ** 2)\n",
    "\n",
    "    #forward propagation\n",
    "    def forward_propagation(self,inputs):\n",
    "        return self.tanh(dot(inputs , self.weight_matrix))\n",
    "\n",
    "    # training the neural network\n",
    "    def train(self , train_inputs , train_outputs , num_train_iterations):\n",
    "        \n",
    "        for iterations in range(num_train_iterations):\n",
    "\n",
    "            output = self.forward_propagation(train_inputs)\n",
    "\n",
    "            # calculate the errors in the output\n",
    "            error = train_outputs - output\n",
    "\n",
    "            adjustment = dot(train_inputs.T , error * self.tanh_derivative(output))\n",
    "\n",
    "            # adjust the weight matrix\n",
    "            self.weight_matrix += adjustment"
   ]
  },
  {
   "cell_type": "code",
   "execution_count": 36,
   "id": "852f2e0b",
   "metadata": {},
   "outputs": [
    {
     "name": "stdout",
     "output_type": "stream",
     "text": [
      "Random weights at the start of training\n",
      "[[-0.16595599]\n",
      " [ 0.44064899]\n",
      " [-0.99977125]]\n",
      "New weights after training\n",
      "[[5.39428067]\n",
      " [0.19482422]\n",
      " [0.34317086]]\n",
      "Testing network on new examples ->\n",
      "[0.49146882]\n"
     ]
    }
   ],
   "source": [
    "neural_network = NeuralNetwork() \n",
    "\n",
    "print ('Random weights at the start of training') \n",
    "print (neural_network.weight_matrix) \n",
    "\n",
    "train_inputs = array([[0, 0, 1],\n",
    "                      [1, 1, 1], \n",
    "                      [1, 0, 1], \n",
    "                      [0, 1, 1]]) \n",
    "\n",
    "train_outputs = array([[0, 1, 1, 0]]).T \n",
    "\n",
    "neural_network.train(train_inputs, train_outputs, 10000) \n",
    "\n",
    "print ('New weights after training') \n",
    "print (neural_network.weight_matrix) \n",
    "\n",
    "# Test the neural network with a new situation. \n",
    "# Make a prediction\n",
    "print (\"Testing network on new examples ->\") \n",
    "print (neural_network.forward_propagation(array([0, 1, 1])))\n"
   ]
  },
  {
   "cell_type": "code",
   "execution_count": null,
   "id": "005a15b3",
   "metadata": {},
   "outputs": [],
   "source": []
  }
 ],
 "metadata": {
  "kernelspec": {
   "display_name": "Python 3 (ipykernel)",
   "language": "python",
   "name": "python3"
  },
  "language_info": {
   "codemirror_mode": {
    "name": "ipython",
    "version": 3
   },
   "file_extension": ".py",
   "mimetype": "text/x-python",
   "name": "python",
   "nbconvert_exporter": "python",
   "pygments_lexer": "ipython3",
   "version": "3.9.13"
  }
 },
 "nbformat": 4,
 "nbformat_minor": 5
}
